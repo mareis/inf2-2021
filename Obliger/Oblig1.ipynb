{
 "cells": [
  {
   "cell_type": "markdown",
   "metadata": {},
   "source": [
    "# Oblig 1:  Utskrift, variabler, datatyper og pseudokode"
   ]
  },
  {
   "cell_type": "markdown",
   "metadata": {},
   "source": [
    "## Oppgave 1\n",
    "\n",
    "a) Skriv et program som skriver \"Programmering er veldig \"kult\"!\" til konsoll. Legg merke til at de doble fnuttene (anførselstegn) i teksten også skal skrives ut.\n",
    "\n",
    "b) Hvilke(n) funksjon(er) har kommentarer i programkode?\n",
    "\n",
    "c) Hva er feil med koden i \"Kodebit 1\" under? Rett den opp så den kjører.\n",
    "\n",
    "d) Skriv adressen ut på følgende to måter ved å bruke variabler: \"Adressen er Kongens gate 432b\" og \"Gaten er Kongens Gate, husnummeret er 432, oppgang b\"\n",
    "\n",
    "```JavaScript\n",
    "let gate = 'Kongens gate'\n",
    "let husnr = 432\n",
    "oppgang = b\n",
    "\n",
    "adresse = gate + husnr + oppgang\n",
    "console.log(adresse)\n",
    "```"
   ]
  },
  {
   "cell_type": "markdown",
   "metadata": {},
   "source": [
    "## Oppgave 2\n",
    "\n",
    "a) Lagre tallet 1000 som heltall i en variabel\n",
    "\n",
    "b) Bruk heltallsdivisjon, og del tallet fra a) på 23\n",
    "\n",
    "c) Ta resultatet fra b) og gang det med 23 igjen. Hvorfor blir ikke svaret 1000? Forklar hvorfor heltallsdivisjon kan være nyttig."
   ]
  },
  {
   "cell_type": "markdown",
   "metadata": {},
   "source": [
    "## Oppgave 3\n",
    "\n",
    "Med utgangspunkt i programmet \"Økning av antallet blomster pr uke i et bed\" under:\n",
    "\n",
    "a) Skriv pseudokode for programmet\n",
    "\n",
    "b) Erstatt variabelnavnene i programmet med beskrivende, gyldige variabelnavn \n",
    "\n",
    "c) Endre tilordningen av variablene slik at programmet fungerer\n",
    "\n",
    "d) Skriv antall blomster etter 10 uker til konsoll med en forklarende setning\n",
    "\n",
    "\n",
    "````JavaScript\n",
    "'150' = antall blomster i bedet \n",
    "15 % økning pr uke = 0.15\n",
    "\n",
    "antall blomster om en uke = antall blomster i bedet + (antall blomster i bedet * 15 % økning pr uke)\n",
    "````"
   ]
  },
  {
   "cell_type": "markdown",
   "metadata": {
    "collapsed": true
   },
   "source": [
    "## Oppgave 4\n",
    "\n",
    "Du er på restaurant med andre studenter på faget fra din kommune, og på regningen er følgende informasjon:\n",
    "\n",
    "Total pris for mat og drikke: 850 kr\n",
    "Studentrabatt: 25%\n",
    "Tips: 10%\n",
    "\n",
    "a) Legg informasjonen inn i variabler\n",
    "\n",
    "b) Lag en ny variabel som regner ut total pris på middagen, og skriv ut denne\n",
    "\n",
    "c) Regn ut pris per person for et valgfritt antall personer, og skriv ut pris per person og antallet personer til konsoll\n"
   ]
  },
  {
   "cell_type": "markdown",
   "metadata": {
    "collapsed": true
   },
   "source": [
    "## Oppgave 5 \n",
    "\n",
    "Listen under er ingrediensene for å lage småkaker. Denne oppskriften gir 36 småkaker.\n",
    "\n",
    "- 100 g smør\n",
    "- 180 g hvetemel\n",
    "- 350 g brunt sukker\n",
    "- 4 egg\n",
    "- 1 ts bakepulver\n",
    "\n",
    "\n",
    "Skriv et program som printer ut en liste med justert mengde av ingrediensene for 10 småkaker."
   ]
  },
  {
   "cell_type": "markdown",
   "metadata": {},
   "source": [
    "## Oppgave 6\n",
    "\n",
    "Nedenfor står et program hvor vi regner ut omkrets og areal for en sirkel etter de velkjente formlene O = 2πr og A = πr2. Slik programmet er nå brukes ingen variabler. Dette gjør at når vi skal regne ut arealet av en sylinder hvor sirkelen er grunnflate, må vi gjøre om igjen flere beregninger som vi allerede har gjort tidligere.\n",
    "\n",
    "Tips: Arealet av sylinderen med høyde h vil være Omkrets_sirkel * h +  2 * Areal_sirkel, hvor det første leddet er arealet av sylinderveggen og det siste leddet er topp- og bunnlokket.\n",
    "\n",
    "Oppgave: Endre koden ved å tilordne og deretter bruke variabler for pi, radius, høyde og sirkelens omkrets og areal, slik at programmet unngår å gjøre på nytt beregninger som allerede er gjort før."
   ]
  }
 ],
 "metadata": {
  "kernelspec": {
   "display_name": "Python 3",
   "language": "python",
   "name": "python3"
  },
  "language_info": {
   "codemirror_mode": {
    "name": "ipython",
    "version": 3
   },
   "file_extension": ".py",
   "mimetype": "text/x-python",
   "name": "python",
   "nbconvert_exporter": "python",
   "pygments_lexer": "ipython3",
   "version": "3.8.3"
  },
  "toc": {
   "base_numbering": 1,
   "nav_menu": {},
   "number_sections": true,
   "sideBar": true,
   "skip_h1_title": false,
   "title_cell": "Table of Contents",
   "title_sidebar": "Contents",
   "toc_cell": false,
   "toc_position": {},
   "toc_section_display": true,
   "toc_window_display": false
  }
 },
 "nbformat": 4,
 "nbformat_minor": 2
}
